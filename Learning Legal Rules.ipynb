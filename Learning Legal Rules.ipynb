{
 "cells": [
  {
   "cell_type": "markdown",
   "metadata": {},
   "source": [
    "# Machine Learning Legal Rules"
   ]
  },
  {
   "cell_type": "markdown",
   "metadata": {},
   "source": [
    "## Preamble"
   ]
  },
  {
   "cell_type": "markdown",
   "metadata": {},
   "source": [
    "Law is complicated. Or is it not? \n",
    "\n",
    "Access to legal knowledge is often restricted and expensive. If you don't have access to a library or an electronic database (of which there is only one monopoly provider out there!), you won't be able to find qualified legal information, lest understand it. The most authoritative treatise on German civil law, usually known by the name of its first editor, Staudinger, encompasses more than 70,000 pages in 106 volumes. Let that sink in. It's impractical to look for answers in such a monster, even for professionals. For law school essays, it is tacitly assumed that you at least once cite from Staudinger. But aside from pleasing your tutors, there is really no use to it. Most lawyers don't have access to it, nor do they need it. At best, they cite from a short commentary that every moderately competent lawyer uses. So if you are looking for answers to your legal problems, even consultation with a real lawyer won't net you the best and most accurate information you can get for your bucks.\n",
    "\n",
    "Democratizing access to information is all the rage now, even in the legal field. Some court decisions are now freely accessible on the Internet, e.g. on openjur.de or juraforum.de. Every user is free to browse recent court decisions and get the information he needs. This sounds like a great thing. But these portals have their own drawbacks, however. Search functionality is actually rather limited, and sometimes not even available (e.g. search function unavailable at 4/7/2018 at openjur.de). Some other platforms like kostenlose-urteile.de only provide their own summaries of the case and the court's decision which might help to get a first overview. But all portals are inherently limited by the choice editors make in selecting the most appropriate decisions and way of presentation for their audience.\n",
    "\n",
    "However, most of this information is actually targeted at lawyers (which are so unsuccessful that they are unable to afford the steep subscription prices for the electronic databases) or ambitious laymen with considerable interest in reading about the law. Court decisions follow a very rigid format, and without understanding of the intricate details of construing the law, reading a case report is a just useless exercise in wasting precious time. The average Joe is unfortunately left out with his legal problems if he were just to resort to the publicly available information. He will probably still have to pay some online lawyers who publicly answer his general questions. This is not really an empowering solution for the citizen for whom the law was created, after all.\n",
    "\n",
    "Even if you're desperate finding answers, it is time-consuming to sift through all the decisions and other relevant legal material of varying qualities to be found online. But there is a solution in sight! Machine Learning to the rescue! Yay! \n",
    "\n",
    "And what's even better: Most questions attorneys and solicitors are asked to answer are just reiterations of old problems, or finding out if courts tend to tip in one direction or the other where the legal field is ambiguous. That's taking up an awful lot of time. Time which can be extended to better pursuits. Enter, you guessed it, Machine Learning!\n",
    "\n",
    "In this quick demonstration, the capabilities of Machine Learning in the legal field will be put to the test."
   ]
  },
  {
   "cell_type": "markdown",
   "metadata": {},
   "source": [
    "## Aims of this demonstration"
   ]
  },
  {
   "cell_type": "markdown",
   "metadata": {},
   "source": [
    "Law is so easy, even a computer can learn it. You don't need to waste time and money to understand law. Your computer is way more efficient in sifting through tons of documents to find the decisive information for you. All has been said and done in the legal field: There are really no new arguments. It's all a reconstruction of old arguments, over and over and over again. This point cannot be stressed enough: There is nothing new under the sun. All a lawyer does is find the right arguments which support his case and hope the judge will follow what is hopefully considered \"herrschende Meinung\", the prevailing view on the matter. But essentially, that's just what machine learning does! And all that in a way more efficient, way more cost-effective and way more *rational* manner."
   ]
  },
  {
   "cell_type": "markdown",
   "metadata": {},
   "source": [
    "## Description of the experimental set-up"
   ]
  },
  {
   "cell_type": "markdown",
   "metadata": {},
   "source": [
    "### Unsupervised and Supervised Learning"
   ]
  },
  {
   "cell_type": "markdown",
   "metadata": {},
   "source": [
    "First, I want to examine how well ML performs when having to classify documents without supervision. Maybe there is a thing or two we can learn by the clustering the algorithms choose for us. Not always, a legally trained person (like me) will be able to excavate the gist of a range of decisions and the current legal trajectory. So I am very interested to find out if there are any meaningful classifications to be gained by unsupervised learning. I really don't expect to get any meaningful outcomes from this exercise. It's mainly to satisfy my own curiosity. You never know, maybe something useful comes out at the end (even if we realize that all that judicial babbling is to be considered _noise_).\n",
    "\n",
    "Second, I am interested to find out how well the algorithm will predict the outcome of a case just by getting the facts of the case as input. This is probably what most clients will be interested in: Will I win my case? ML will tell you!"
   ]
  },
  {
   "cell_type": "markdown",
   "metadata": {},
   "source": [
    "### The data set"
   ]
  },
  {
   "cell_type": "markdown",
   "metadata": {},
   "source": [
    "As I previously stated, it's not so easy to get a hold of the actual decisions. With free databases, search functionality is rather limited (as if it was any better with the commercial ones), so there is a lot of hard manual work involved into collecting a data set for our purposes. Matters are further complicated by the fact that those legal opinions that are followed nearly religiously by every court have been decided eons ago when digitization of law reports was unheard of, and no institution so far has bothered to do this for us (for free, that is). It will be rather a complicated and long-winded task to find those decisions. I am currently at this stage of the project not willing to expend my time on this Herculean task. So we have to make do with what others have already provided us with.\n",
    "\n",
    "For this challenge, I chose a particular area of civil law, namely remedies for a faulty or defective product (Ansprüche wegen Mangels an der Kaufsache). Faulty Diesel engines spring to mind here. In itself, this is a rather narrow aspect of civil law but an important one. On the other hand, it's a really deep topic with lots and lots of \"if\"s involved. Also, it should be noted here that there are quite a few distinct claims to be made under the umbrella term of Sachmangel. It's possible to demand a partial refund (Kaufpreisminderung), return the good (Rücktritt vom Vertrag) or even to demand compensation in damages next to or in addition to demanding rework (Schadensersatz neben, bzw. statt der Leistung). For now, we are just interested in the question, if there is indeed a fault with the product, and if so, if there is an enforceable claim irrespective on which grounds. This should give any algorithm a good amount of work to do without being overhwelmed (I hope).\n",
    "\n",
    "Because there are some reliabilty issues with openjur.de (search functionality doesn't return any results as of 4/7/2018), I chose a different site. I searched for 'Mangel' on juraforum.de, and nearly randomly picked the top results in the result list which was ordered by relevance. I paid attention not to include too many similar cases (e.g. two or more cases with unfit horses, or literally hundred cases on the VW emissions scandal) or the same case at different instances (e.g. decisions of the LG and OLG on the facts of the same case. Where a higher instance has ruled over a case, only the latter one will be incorporated into this data set). Also, I restricted myself to decisions from civil courts (this should be obvious since we are only interested in decisions on civil law matters. Although I have to admit that I would have really loved to read - and put to the test! - this one from Verwaltungsgericht Karlsruhe: \"Es besteht keine überwiegende Wahrscheinlichkeit dafür, dass das Tragen von Brustimplantaten einen gesundheitlichen Mangel darstellt, der die Polizeidiensttauglichkeit aktuell oder prognostisch ausschließt.\"). Lastly, I only incorporated results which deal with the sale of goods. There are other areas of law like the law of tenancy where faults and defects are relevant. But this should not be our focus now. This is for the time being a project focusing solely on the sale of faulty goods and what courts do to remedy these problems. NB: Decisions prior to 2002 should be handled with utmost care: In 2002, the Schuldrechtsmodernisierungsgesetz completely remodeled the law and incoporated EU directives into national law. So any decision before 2002 do not necessarily reflect the actual law of obligations.\n",
    "\n",
    "Another way to find relevant cases is to look at the relevant provisions in the online version of the civil code at dejure.org. In our case, this is § 434 BGB. On the right hand side, there is the option to show case law (\"Rechtsprechung anzeigen\"). This is particularly helpful if the basis for a claim (\"Anspruchsgrundlage\") is clear or the problem is the particular provision in question. For the present limited problem we have set ourselves, we can make use of this feature at dejure.org and select a few more reports. In the end, we now have a total of 53 law reports on our hard drive."
   ]
  },
  {
   "cell_type": "markdown",
   "metadata": {},
   "source": [
    "#### Problems acquiring the data"
   ]
  },
  {
   "cell_type": "markdown",
   "metadata": {},
   "source": [
    "Format of the freely available law reports may be an issue, especially across different providers. Even if there are free reports available, free access may only extend to the abstract but not the long text. And where the long text is available, getting it into a text file may be cumbersome. It wasn't a pleasure to find those 53 reports and copying them into text files due to this issue. Quite a lot of time needs to be spend on this dreadful task alone. That's something that needs to be borne in mind (more so than with any Machine Learning / Data Science project).\n",
    "\n",
    "In some cases, judges refrain from (re-)publishing the facts of the case because they are not legally bound to do so in higher instances. Since most of the available reports are from courts of higher instances, this also might present a problem. Also, there is varying quality of the case reports. Some are very detailed while others only report the bare bones of a case."
   ]
  },
  {
   "cell_type": "markdown",
   "metadata": {},
   "source": [
    "#### Problems classifying the data"
   ]
  },
  {
   "cell_type": "markdown",
   "metadata": {},
   "source": [
    "Some cases are quite hard to dissect. In particular, decision 15 was not easy to classify (case where the higher instance does not give a definite ruling but orders the court of lower instance to re-evaluate its decision based on the opinion of the higher court on legal grounds). It may still come to the same decison as before but choose another reasoning. So it's not at all clear how the case was decided if there is no other resource from which to get the final decision. I therefore chose to stick to the rulings of the lower instances which all rejected the claim of the plaintiff). A similar problem arose with decision 36 (which is a very interesting case, btw). But with case 36, it was possible to find the final decision of the OLG which rejected the claim.\n",
    "Case 39 should not have been included: I included the decision of LG Osnabrück although there is a decision of the OLG Osnabrück; irrelevant here because the decision has been confirmed in the higher instance.\n",
    "Decision 40 was tricky because both parties only partially succeeded with their claims. Concerning the claim for defects on her property, the claimant did not succeed so I treated the entire case as failure.\n",
    "Case 47 actually happend in 1996, several years before the reshaping of the law of obligations in 2002. The decision has been taken by the courts in 2008! So you can see from this example, that some cases may endure over quite a long time frame - even so long that the original defendant had died and her successor, her husband, had to carry on the case. Anyways, the case is still relevant under the reformed law so I decided to have it included."
   ]
  },
  {
   "cell_type": "markdown",
   "metadata": {},
   "source": [
    "#### Getting the data into shape"
   ]
  },
  {
   "cell_type": "markdown",
   "metadata": {},
   "source": [
    "After having manually extracted the mere facts of the case, I consolidated the data into a single file for easier and cleaner data handling. This can be done by a simple script, `get_data.py`. For the time being, this script is hard-coded to read all cases from `1.txt` to `53.txt`, remove any linebreaks in each and every case, and write as output a single file in which the facts of each case are contained in a single line (i.e. each case starts on a new line). Of course, in later versions, this script will be improved, e.g. to take a start and finish file via command line argument. As it is, it gets the job done which shall suffice for demonstration purposes.\n",
    "\n",
    "By this procedure I created two files: One consolidated file which contains the entire law report of all cases, `./data/consolidated.txt`, which will be used in an unsupervised learning experiment to see if any meaningful summaries of the data can be obtained, and one consolidated file which contains only the facts, `./data/facts.txt`, which will be used in both a supervised (categorization: enforceable claim - yes or no) and an unsupervised setting (again, clustering, and also possibly dimensionality reduction).\n",
    "\n",
    "The result of my personal classification of the cases can be found in `./data/outcome.txt`."
   ]
  },
  {
   "cell_type": "markdown",
   "metadata": {},
   "source": [
    "## Experiment 1.1: Clustering the entire reports"
   ]
  },
  {
   "cell_type": "markdown",
   "metadata": {},
   "source": [
    "Finally, we're getting our hands dirty! For our first endeavour, let's take the entire case reports and run a clustering algorithm over it. For now, we leave everything at vanilla settings and see where we can go with these. <br>\n",
    "In particular, we will at first stick to the default setting of the Vectorizer of `ngram_range=(1,1)`. Later on, we will change this to `(1,3)` or `(1,4)` which is the ngram length which allegedly yields the best results for antispam filters (and what else could a court's decision be in our lives other than spam?!). <br>\n",
    "A word-stemmer (e.g. the Snowball Stemmer for the German language as implemented in the Natural Language Toolkit for Python (NLTK)) is not currently employed. In a later version (if time permits), I will probably make use of it. <br>\n",
    "I chose to work with the normalized term frequencies (tf-idf) to reduce the impact of common words like \"und\", \"aber\", \"ist\", etc. Another approach to implement - perhaps in conjunction with the NLTK package - is the use of a list of stop words. Again, I will try this out another time.<br>\n",
    "_Update:_ Employed both the Snowball Stemmer and the list of stopwords from the NLTK package. I created a simple stemmer function which is then fed into the Vectorizer."
   ]
  },
  {
   "cell_type": "code",
   "execution_count": 1,
   "metadata": {},
   "outputs": [
    {
     "name": "stdout",
     "output_type": "stream",
     "text": [
      "[nltk_data] Downloading package stopwords to /home/eki/nltk_data...\n",
      "[nltk_data]   Package stopwords is already up-to-date!\n"
     ]
    }
   ],
   "source": [
    "from nltk.stem.snowball import GermanStemmer\n",
    "import nltk\n",
    "nltk.download('stopwords')\n",
    "from nltk.corpus import stopwords\n",
    "stop = stopwords.words('german')\n",
    "Stemmer = GermanStemmer()\n",
    "def snowball_tokenizer(doc):\n",
    "    return [Stemmer.stem(word) for word in doc]"
   ]
  },
  {
   "cell_type": "code",
   "execution_count": 2,
   "metadata": {},
   "outputs": [],
   "source": [
    "full_data = []\n",
    "with open('data/consolidated.txt') as f:\n",
    "    for line in f:\n",
    "        full_data.append(line.rstrip())"
   ]
  },
  {
   "cell_type": "code",
   "execution_count": 3,
   "metadata": {},
   "outputs": [],
   "source": [
    "#from nltk import word_tokenize\n",
    "#nltk.download('punkt')\n",
    "#tokens = [word_tokenize(doc) for doc in full_data]"
   ]
  },
  {
   "cell_type": "code",
   "execution_count": 4,
   "metadata": {
    "scrolled": false
   },
   "outputs": [],
   "source": [
    "from sklearn.feature_extraction.text import TfidfVectorizer\n",
    "tfidf = TfidfVectorizer(tokenizer=snowball_tokenizer,\n",
    "                        stop_words=stopwords.words('german'),\n",
    "                        max_df=0.5,\n",
    "                        min_df=0.01,\n",
    "                        lowercase=True,\n",
    "                        ngram_range=(1,3))\n",
    "features = tfidf.fit_transform(full_data)"
   ]
  },
  {
   "cell_type": "code",
   "execution_count": 5,
   "metadata": {},
   "outputs": [],
   "source": [
    "from sklearn.cluster import KMeans\n",
    "kmeans = KMeans(n_clusters=2)\n",
    "k_predict = kmeans.fit_predict(features)"
   ]
  },
  {
   "cell_type": "code",
   "execution_count": 6,
   "metadata": {},
   "outputs": [
    {
     "name": "stdout",
     "output_type": "stream",
     "text": [
      "[1 1 1 1 1 0 1 1 1 0 1 1 1 1 1 0 1 1 1 1 1 0 0 0 0 0 1 0 0 0 0 0 0 0 1 0 0\n",
      " 0 0 0 0 1 0 0 0 0 1 0 0 1 1 1 0]\n"
     ]
    }
   ],
   "source": [
    "print(k_predict)"
   ]
  },
  {
   "cell_type": "code",
   "execution_count": 7,
   "metadata": {},
   "outputs": [
    {
     "name": "stdout",
     "output_type": "stream",
     "text": [
      "\"Classification\" accuracy: 0.491\n",
      "Homogeneity: 0.000\n",
      "Completeness: 0.000\n"
     ]
    }
   ],
   "source": [
    "from sklearn.metrics import accuracy_score\n",
    "from sklearn.metrics import homogeneity_score\n",
    "from sklearn.metrics import completeness_score\n",
    "y_true = []\n",
    "with open('data/outcome.txt') as g:\n",
    "    for line in g:\n",
    "        y_true.append(int(line.rstrip()))\n",
    "print('\"Classification\" accuracy: %.3f' % accuracy_score(y_true, k_predict))\n",
    "print('Homogeneity: %.3f' % homogeneity_score(y_true, k_predict))\n",
    "print('Completeness: %.3f' % completeness_score(y_true, k_predict))"
   ]
  },
  {
   "cell_type": "markdown",
   "metadata": {},
   "source": [
    "### Result"
   ]
  },
  {
   "cell_type": "markdown",
   "metadata": {},
   "source": [
    "Well ... I could have flipped a coin as well. With the current setup, this won't give me any useful classification on its own. At least, it is unable to function as an automatic classifier for court decisions which should have spat out if a claim was successful or not. MAYBE I am just expecting too much, both of the chosen clustering algorithm (KMeans is probably everything but optimal in this setting) and the desired interpretation. "
   ]
  },
  {
   "cell_type": "markdown",
   "metadata": {},
   "source": [
    "### Variation 1"
   ]
  },
  {
   "cell_type": "markdown",
   "metadata": {},
   "source": [
    "Just to make sure that KMeans is not able to make any meaningful classifications for us, after all, I will quickly run an elbow test to determine the optimal number of clusters for this data set. Maybe there ARE some useful insights to be gained."
   ]
  },
  {
   "cell_type": "code",
   "execution_count": 8,
   "metadata": {},
   "outputs": [
    {
     "data": {
      "image/png": "[encoded data removed]",
      "text/plain": [
       "<Figure size 432x288 with 1 Axes>"
      ]
     },
     "metadata": {},
     "output_type": "display_data"
    }
   ],
   "source": [
    "%matplotlib inline\n",
    "import matplotlib.pyplot as plt\n",
    "distortions = []\n",
    "for k in range (1, 11):\n",
    "    km = KMeans(n_clusters=k)\n",
    "    km.fit(features)\n",
    "    distortions.append(km.inertia_)\n",
    "plt.plot(range(1, 11), distortions, marker='o')\n",
    "plt.xlabel('Number of clusters')\n",
    "plt.ylabel('Distortion')\n",
    "plt.show()"
   ]
  },
  {
   "cell_type": "markdown",
   "metadata": {},
   "source": [
    "Since there is no evident bend in the plot above, there is not a value for k where distortion begins to rapidly decline. This would have marked the value which results in the most 'natural' grouping. Obviously, there is no inherent categorization to be drawn from the available data."
   ]
  },
  {
   "cell_type": "markdown",
   "metadata": {},
   "source": [
    "### Variation 2"
   ]
  },
  {
   "cell_type": "markdown",
   "metadata": {},
   "source": [
    "Let's try out another clustering approach. This time, we will use Agglomerative Clustering. <br>\n",
    "Note: This approach requires transforming the sparse matrix into a dense matrix. With larger datasets, this will require quite a lot of RAM and may become unfeasible."
   ]
  },
  {
   "cell_type": "code",
   "execution_count": 9,
   "metadata": {},
   "outputs": [
    {
     "name": "stdout",
     "output_type": "stream",
     "text": [
      "[0 0 0 0 0 0 0 0 0 0 0 0 0 0 0 0 0 0 0 0 0 1 1 0 1 0 0 1 0 0 1 0 1 0 0 1 0\n",
      " 0 0 0 0 0 0 0 0 0 0 0 0 0 0 0 0]\n"
     ]
    }
   ],
   "source": [
    "from sklearn.cluster import AgglomerativeClustering\n",
    "ac = AgglomerativeClustering(linkage='ward')\n",
    "labels = ac.fit_predict(features.toarray())\n",
    "print(labels)"
   ]
  },
  {
   "cell_type": "code",
   "execution_count": 10,
   "metadata": {},
   "outputs": [
    {
     "name": "stdout",
     "output_type": "stream",
     "text": [
      "\"Classification\" accuracy: 0.528\n",
      "Homogeneity: 0.003\n",
      "Completeness: 0.005\n"
     ]
    }
   ],
   "source": [
    "print('\"Classification\" accuracy: %.3f' % accuracy_score(y_true, labels))\n",
    "print('Homogeneity: %.3f' % homogeneity_score(y_true, labels))\n",
    "print('Completeness: %.3f' % completeness_score(y_true, labels))"
   ]
  },
  {
   "cell_type": "markdown",
   "metadata": {},
   "source": [
    "Well, slightly better than KMeans, but still not a significantly better approach, especially considering the cost in memory."
   ]
  },
  {
   "cell_type": "markdown",
   "metadata": {},
   "source": [
    "### Variation 3"
   ]
  },
  {
   "cell_type": "markdown",
   "metadata": {},
   "source": [
    "OK, one last clustering approach, before we move on to our other experiments. For this variation, I am using the Density-based Spatial Clustering of Applications with Noise algorithm, or short, DBSCAN. Since court decision produce a lot of noise (and hot gas), it seems only natural to give this one a shot, right? <br>\n",
    "Before using this algorithm, it makes sense to reduce dimensionality because working in high dimensions is a hard problem for a density classifier. Therefore, I am now making use of an approach called Latent Semantic Analysis (LSA) and run my TFIDF sparse matrix through a SVD decomposer first. Note: It is generally recommended to reduce dimensions to about 100 for LSA. However, this is value is still too high for DBSCAN. Some optimization still needs to be done, but we still get a first impression how difficult it is to derive meaning from unclassified input."
   ]
  },
  {
   "cell_type": "code",
   "execution_count": 11,
   "metadata": {},
   "outputs": [
    {
     "name": "stdout",
     "output_type": "stream",
     "text": [
      "\"Classification\" accuracy: 0.472\n",
      "Homogeneity: 0.003\n",
      "Completeness: 0.005\n"
     ]
    }
   ],
   "source": [
    "from sklearn.decomposition import TruncatedSVD\n",
    "svd = TruncatedSVD(n_components=10)\n",
    "lsa = svd.fit_transform(features)\n",
    "y_lsa = kmeans.fit_predict(lsa)\n",
    "print('\"Classification\" accuracy: %.3f' % accuracy_score(y_true, y_lsa))\n",
    "print('Homogeneity: %.3f' % homogeneity_score(y_true, y_lsa))\n",
    "print('Completeness: %.3f' % completeness_score(y_true, y_lsa))"
   ]
  },
  {
   "cell_type": "markdown",
   "metadata": {},
   "source": [
    "Time to reduce the noise. Well, actually, this won't work, again. But it's nice evidence for the amount of mumbojumbo in court decisions. This will finally explain why it's so easy to fall asleep while being exposed to the amount of white noise while reading legalese. "
   ]
  },
  {
   "cell_type": "code",
   "execution_count": 12,
   "metadata": {},
   "outputs": [
    {
     "name": "stdout",
     "output_type": "stream",
     "text": [
      "[ 0  0  0 -1  0  0  0  0  0  0  0  0  0  0  0  0 -1 -1  0  0  0  1  1 -1\n",
      "  1  0  0  1  0  0  1  0  1  0  0  1  0  0  0 -1  0  0  0  0 -1 -1  0  0\n",
      "  0  0  0  0  0]\n"
     ]
    }
   ],
   "source": [
    "from sklearn.cluster import DBSCAN\n",
    "db = DBSCAN()\n",
    "y_db = db.fit_predict(lsa)\n",
    "print(y_db)"
   ]
  },
  {
   "cell_type": "markdown",
   "metadata": {},
   "source": [
    "## Experiment 1.2: Clustering only the facts of the case"
   ]
  },
  {
   "cell_type": "markdown",
   "metadata": {},
   "source": [
    "Again, I don't really expect much from this exercise. So I will simply run the same setup again on the facts of the cases."
   ]
  },
  {
   "cell_type": "code",
   "execution_count": 13,
   "metadata": {},
   "outputs": [
    {
     "name": "stdout",
     "output_type": "stream",
     "text": [
      "\"Classification\" accuracy: 0.509\n",
      "Homogeneity: 0.004\n",
      "Completeness: 0.014\n"
     ]
    }
   ],
   "source": [
    "facts = []\n",
    "with open('data/facts.txt') as f:\n",
    "    for line in f:\n",
    "#        facts.append(\" \".join([w for w in tokenizer(line) if w not in stop]))\n",
    "         facts.append(line.rstrip())\n",
    "\n",
    "#X_feat = vectorizer.fit_transform(facts)\n",
    "X_feat = tfidf.fit_transform(facts)\n",
    "Y_fact = kmeans.fit_predict(X_feat)\n",
    "\n",
    "print('\"Classification\" accuracy: %.3f' % accuracy_score(y_true, Y_fact))\n",
    "print('Homogeneity: %.3f' % homogeneity_score(y_true, Y_fact))\n",
    "print('Completeness: %.3f' % completeness_score(y_true, Y_fact))"
   ]
  },
  {
   "cell_type": "markdown",
   "metadata": {},
   "source": [
    "## Result"
   ]
  },
  {
   "cell_type": "markdown",
   "metadata": {},
   "source": [
    "Hardly surprisingly, this clustering result does not help us at all. "
   ]
  },
  {
   "cell_type": "markdown",
   "metadata": {},
   "source": [
    "### Variation"
   ]
  },
  {
   "cell_type": "markdown",
   "metadata": {},
   "source": [
    "As before, we will - for the sake of completeness - use the LSA approach, but do not expect any improvements."
   ]
  },
  {
   "cell_type": "code",
   "execution_count": 14,
   "metadata": {},
   "outputs": [
    {
     "name": "stdout",
     "output_type": "stream",
     "text": [
      "\"Classification\" accuracy: 0.453\n",
      "Homogeneity: 0.016\n",
      "Completeness: 0.043\n"
     ]
    }
   ],
   "source": [
    "fact_lsa = svd.fit_transform(X_feat)\n",
    "Y_fact_lsa = kmeans.fit_predict(fact_lsa)\n",
    "\n",
    "print('\"Classification\" accuracy: %.3f' % accuracy_score(y_true, Y_fact_lsa))\n",
    "print('Homogeneity: %.3f' % homogeneity_score(y_true, Y_fact_lsa))\n",
    "print('Completeness: %.3f' % completeness_score(y_true, Y_fact_lsa))"
   ]
  },
  {
   "cell_type": "markdown",
   "metadata": {},
   "source": [
    "### Conclusion"
   ]
  },
  {
   "cell_type": "markdown",
   "metadata": {},
   "source": [
    "As was to be expected, clustering does not lead to any meaningful classifications on its own. There are a few reasons which may explain this result: First, our dataset is pretty small (53 cases). Second, it's very limited to one area of law. Third, I am rushing through this to get to the most interesting part: Our next experiment."
   ]
  },
  {
   "cell_type": "markdown",
   "metadata": {},
   "source": [
    "## Experiment 2"
   ]
  },
  {
   "cell_type": "markdown",
   "metadata": {},
   "source": [
    "Now, onwards to classifying. Let's get to the meat and gravy here: Neural Networks. For this, I will try out Keras. First, some preparatory steps."
   ]
  },
  {
   "cell_type": "code",
   "execution_count": 15,
   "metadata": {},
   "outputs": [],
   "source": [
    "from sklearn.model_selection import train_test_split\n",
    "X_train, X_test, Y_train, Y_test = train_test_split(X_feat, \n",
    "                                                    y_true, \n",
    "                                                    test_size=0.20,\n",
    "                                                    )"
   ]
  },
  {
   "cell_type": "code",
   "execution_count": 16,
   "metadata": {},
   "outputs": [
    {
     "name": "stderr",
     "output_type": "stream",
     "text": [
      "Using TensorFlow backend.\n"
     ]
    }
   ],
   "source": [
    "from keras.models import Sequential\n",
    "model = Sequential()"
   ]
  },
  {
   "cell_type": "code",
   "execution_count": 17,
   "metadata": {},
   "outputs": [],
   "source": [
    "DIM = X_train.shape[1]"
   ]
  },
  {
   "cell_type": "code",
   "execution_count": 18,
   "metadata": {},
   "outputs": [],
   "source": [
    "from keras.layers import Dense\n",
    "model.add(Dense(10, input_dim=DIM, activation='relu'))\n",
    "model.add(Dense(10, activation='relu'))\n",
    "model.add(Dense(1, activation='sigmoid'))"
   ]
  },
  {
   "cell_type": "code",
   "execution_count": 19,
   "metadata": {},
   "outputs": [],
   "source": [
    "from keras.optimizers import RMSprop\n",
    "opt = RMSprop(lr=0.01)"
   ]
  },
  {
   "cell_type": "code",
   "execution_count": 20,
   "metadata": {},
   "outputs": [],
   "source": [
    "model.compile(loss='binary_crossentropy',\n",
    "              optimizer=opt,\n",
    "              metrics=['accuracy'])"
   ]
  },
  {
   "cell_type": "code",
   "execution_count": 21,
   "metadata": {},
   "outputs": [
    {
     "name": "stdout",
     "output_type": "stream",
     "text": [
      "Train on 42 samples, validate on 11 samples\n",
      "Epoch 1/10\n",
      "42/42 [==============================] - 0s 6ms/step - loss: 0.7008 - acc: 0.4048 - val_loss: 0.6997 - val_acc: 0.3636\n",
      "Epoch 2/10\n",
      "42/42 [==============================] - 0s 440us/step - loss: 0.6262 - acc: 0.8095 - val_loss: 0.6443 - val_acc: 0.5455\n",
      "Epoch 3/10\n",
      "42/42 [==============================] - 0s 474us/step - loss: 0.4449 - acc: 0.9048 - val_loss: 0.5957 - val_acc: 0.6364\n",
      "Epoch 4/10\n",
      "42/42 [==============================] - 0s 378us/step - loss: 0.2872 - acc: 0.9762 - val_loss: 0.5828 - val_acc: 0.5455\n",
      "Epoch 5/10\n",
      "42/42 [==============================] - 0s 435us/step - loss: 0.1409 - acc: 1.0000 - val_loss: 0.5800 - val_acc: 0.8182\n",
      "Epoch 6/10\n",
      "42/42 [==============================] - 0s 355us/step - loss: 0.0593 - acc: 1.0000 - val_loss: 0.6719 - val_acc: 0.5455\n",
      "Epoch 7/10\n",
      "42/42 [==============================] - 0s 415us/step - loss: 0.0309 - acc: 1.0000 - val_loss: 0.5750 - val_acc: 0.6364\n",
      "Epoch 8/10\n",
      "42/42 [==============================] - 0s 317us/step - loss: 0.0199 - acc: 1.0000 - val_loss: 0.5833 - val_acc: 0.8182\n",
      "Epoch 9/10\n",
      "42/42 [==============================] - 0s 432us/step - loss: 0.0126 - acc: 1.0000 - val_loss: 0.5851 - val_acc: 0.8182\n",
      "Epoch 10/10\n",
      "42/42 [==============================] - 0s 421us/step - loss: 0.0096 - acc: 1.0000 - val_loss: 0.5813 - val_acc: 0.8182\n"
     ]
    }
   ],
   "source": [
    "history = model.fit(X_train, Y_train,\n",
    "                    validation_data=(X_test,Y_test),\n",
    "                    shuffle=True,\n",
    "                    epochs=10,\n",
    "                    batch_size=16)"
   ]
  },
  {
   "cell_type": "code",
   "execution_count": 22,
   "metadata": {},
   "outputs": [
    {
     "name": "stdout",
     "output_type": "stream",
     "text": [
      "\r",
      "11/11 [==============================] - 0s 742us/step\n"
     ]
    }
   ],
   "source": [
    "score = model.evaluate(X_test, Y_test)"
   ]
  },
  {
   "cell_type": "code",
   "execution_count": 23,
   "metadata": {},
   "outputs": [
    {
     "data": {
      "text/plain": [
       "[0.5812682509422302, 0.8181818127632141]"
      ]
     },
     "execution_count": 23,
     "metadata": {},
     "output_type": "execute_result"
    }
   ],
   "source": [
    "score"
   ]
  },
  {
   "cell_type": "code",
   "execution_count": 24,
   "metadata": {},
   "outputs": [
    {
     "data": {
      "image/png": "[encoded data removed]",
      "text/plain": [
       "<Figure size 432x288 with 1 Axes>"
      ]
     },
     "metadata": {},
     "output_type": "display_data"
    }
   ],
   "source": [
    "plt.plot(history.history['acc'])\n",
    "plt.plot(history.history['val_acc'])\n",
    "plt.title('model accuracy')\n",
    "plt.ylabel('accuracy')\n",
    "plt.xlabel('epoch')\n",
    "plt.legend(['train', 'test'], loc='upper left')\n",
    "plt.show()"
   ]
  },
  {
   "cell_type": "code",
   "execution_count": 25,
   "metadata": {},
   "outputs": [
    {
     "data": {
      "image/png": "[encoded data removed]",
      "text/plain": [
       "<Figure size 432x288 with 1 Axes>"
      ]
     },
     "metadata": {},
     "output_type": "display_data"
    }
   ],
   "source": [
    "plt.plot(history.history['loss'])\n",
    "plt.plot(history.history['val_loss'])\n",
    "plt.title('model loss')\n",
    "plt.ylabel('loss')\n",
    "plt.xlabel('epoch')\n",
    "plt.legend(['train', 'test'], loc='upper left')\n",
    "plt.show()"
   ]
  },
  {
   "cell_type": "markdown",
   "metadata": {},
   "source": [
    "I really like some of the results already. Performance is not steady but it should not be forgotten that we are starting out with a measly sample of 53 decisions. So we should be neither too optimistic nor too critical."
   ]
  },
  {
   "cell_type": "markdown",
   "metadata": {},
   "source": [
    "### Variation"
   ]
  },
  {
   "cell_type": "markdown",
   "metadata": {},
   "source": [
    "Variety is the spice of life. That's why we try out another classifier. For this, we will have to enter a very dark forest and hope we won't get lost with just the dim light of our law companions."
   ]
  },
  {
   "cell_type": "code",
   "execution_count": 53,
   "metadata": {},
   "outputs": [],
   "source": [
    "from sklearn.ensemble import RandomForestClassifier\n",
    "rfc = RandomForestClassifier(n_estimators=5,\n",
    "                             criterion='entropy',\n",
    "                             max_features='sqrt',\n",
    "                             max_depth=6,\n",
    "                             n_jobs=-1)"
   ]
  },
  {
   "cell_type": "code",
   "execution_count": 54,
   "metadata": {},
   "outputs": [
    {
     "data": {
      "text/plain": [
       "1.0"
      ]
     },
     "execution_count": 54,
     "metadata": {},
     "output_type": "execute_result"
    }
   ],
   "source": [
    "rfc.fit(X_train, Y_train)\n",
    "rfc.score(X_train, Y_train)"
   ]
  },
  {
   "cell_type": "code",
   "execution_count": 55,
   "metadata": {},
   "outputs": [
    {
     "name": "stdout",
     "output_type": "stream",
     "text": [
      "0.9090909090909091\n"
     ]
    }
   ],
   "source": [
    "Y_rfc = rfc.predict(X_test)\n",
    "print(accuracy_score(Y_test, Y_rfc))"
   ]
  },
  {
   "cell_type": "markdown",
   "metadata": {},
   "source": [
    "### Conclusion"
   ]
  },
  {
   "cell_type": "markdown",
   "metadata": {},
   "source": [
    "I am inclined to say that I like some of the results I am getting. They are far from stable but what else can we expect from a first investigation and a tiny data set? For these reasons, I have not yet employed any cross validation techniques. But with the most recent accuracy score of 1.0 (I know, I am overfitting; doesn't matter for now) on the training set and an accuracy score of 0.909 on the test data, I am confident to conclude that there is some potential with the current approach. The only thing that's bothering me is the loss rate which is still quite high on the test set. Again, more data will help this investigation."
   ]
  },
  {
   "cell_type": "markdown",
   "metadata": {},
   "source": [
    "### Outlook"
   ]
  },
  {
   "cell_type": "markdown",
   "metadata": {},
   "source": [
    "Getting better data is one of the main points on which I need to work in the future. It would be advantageous to write a webscraper tool which automatically downloads all relevant decisions, and - maybe - does some preprocessing for us. Until now I haven't found a site where I could use such a tool (at least without having to bother with legal ramifications, right?). Maybe the online publications of each and every court in the country have to be skimmed to get the required data first hand. Most of the time for this project has to be spend on this task alone. So far, data has been hand picked, which might introduce some selection bias (as I briefly outlined in the introduction). Furthermore, decisions that have been made available to the general public have initially been selected by the courts or some other editors and deemed to be worthy of our general attention, which makes this a double selection bias. Another drawback is that a poor soul (i.e. me) has to categorize the findings because clustering has not delivered promising results so far. Maybe unsupervised techniques will become handy when several different claims have to be distinguished (e.g. contractual claims vs. tort claims, etc.). And finally, in a commercial product, end users will describe their legal problem differently from what we can find in the summaries of case reports. This will have an impact on the accuracy of our predictions as well."
   ]
  },
  {
   "cell_type": "code",
   "execution_count": null,
   "metadata": {},
   "outputs": [],
   "source": []
  }
 ],
 "metadata": {
  "kernelspec": {
   "display_name": "venv",
   "language": "python",
   "name": "venv"
  },
  "language_info": {
   "codemirror_mode": {
    "name": "ipython",
    "version": 3
   },
   "file_extension": ".py",
   "mimetype": "text/x-python",
   "name": "python",
   "nbconvert_exporter": "python",
   "pygments_lexer": "ipython3",
   "version": "3.6.6"
  }
 },
 "nbformat": 4,
 "nbformat_minor": 2
}
